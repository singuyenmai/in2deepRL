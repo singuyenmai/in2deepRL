{
 "cells": [
  {
   "cell_type": "code",
   "execution_count": 1,
   "metadata": {},
   "outputs": [
    {
     "data": {
      "text/plain": [
       "array([[0., 0., 0., 0.],\n",
       "       [0., 0., 0., 0.],\n",
       "       [0., 0., 0., 0.],\n",
       "       [0., 0., 0., 0.],\n",
       "       [0., 0., 0., 0.],\n",
       "       [0., 0., 0., 0.],\n",
       "       [0., 0., 0., 0.],\n",
       "       [0., 0., 0., 0.],\n",
       "       [0., 0., 0., 0.],\n",
       "       [0., 0., 0., 0.],\n",
       "       [0., 0., 0., 0.],\n",
       "       [0., 0., 0., 0.],\n",
       "       [0., 0., 0., 0.],\n",
       "       [0., 0., 0., 0.],\n",
       "       [0., 0., 0., 0.],\n",
       "       [0., 0., 0., 0.]])"
      ]
     },
     "execution_count": 1,
     "metadata": {},
     "output_type": "execute_result"
    }
   ],
   "source": [
    "from FrozenLakeAgent import Agent\n",
    "agent = Agent()\n",
    "\n",
    "# check initial q-table\n",
    "agent.q_table"
   ]
  },
  {
   "cell_type": "code",
   "execution_count": 2,
   "metadata": {},
   "outputs": [
    {
     "name": "stdout",
     "output_type": "stream",
     "text": [
      "  (Left)\n",
      "SFFF\n",
      "FHFH\n",
      "FFFH\n",
      "\u001b[41mH\u001b[0mFFG\n",
      "**** You fell through a hole! ****\n"
     ]
    }
   ],
   "source": [
    "agent.play()"
   ]
  },
  {
   "cell_type": "code",
   "execution_count": 5,
   "metadata": {},
   "outputs": [
    {
     "name": "stdout",
     "output_type": "stream",
     "text": [
      "TRAINING IN 10000 EPISODES\n",
      "Episode: 1000/10000 | reward: 0.51400\n",
      "Episode: 2000/10000 | reward: 0.67900\n",
      "Episode: 3000/10000 | reward: 0.64700\n",
      "Episode: 4000/10000 | reward: 0.65200\n",
      "Episode: 5000/10000 | reward: 0.64200\n",
      "Episode: 6000/10000 | reward: 0.67900\n",
      "Episode: 7000/10000 | reward: 0.68100\n",
      "Episode: 8000/10000 | reward: 0.69200\n",
      "Episode: 9000/10000 | reward: 0.70400\n",
      "Episode: 10000/10000 | reward: 0.69400\n",
      "\n",
      "\n",
      "********Q-table********\n",
      "\n",
      "[[0.56845881 0.52169732 0.50727965 0.5105207 ]\n",
      " [0.17094375 0.26387107 0.24798761 0.47773598]\n",
      " [0.35146053 0.26680836 0.24993666 0.28144682]\n",
      " [0.17943791 0.06235863 0.0399144  0.03258989]\n",
      " [0.58805016 0.40649752 0.3717066  0.48514964]\n",
      " [0.         0.         0.         0.        ]\n",
      " [0.13675831 0.24869997 0.12291079 0.13440792]\n",
      " [0.         0.         0.         0.        ]\n",
      " [0.41953458 0.49470828 0.41547193 0.62966946]\n",
      " [0.42343547 0.68983608 0.40860731 0.48558731]\n",
      " [0.66474807 0.29382942 0.3149239  0.262411  ]\n",
      " [0.         0.         0.         0.        ]\n",
      " [0.         0.         0.         0.        ]\n",
      " [0.44891457 0.51452633 0.79884589 0.41792218]\n",
      " [0.78927187 0.8896878  0.78595994 0.70737527]\n",
      " [0.         0.         0.         0.        ]]\n",
      "Training done\n"
     ]
    }
   ],
   "source": [
    "# train agent\n",
    "agent.train(10000)"
   ]
  },
  {
   "cell_type": "code",
   "execution_count": 4,
   "metadata": {},
   "outputs": [
    {
     "name": "stdout",
     "output_type": "stream",
     "text": [
      "  (Down)\n",
      "SFFF\n",
      "FHFH\n",
      "FFFH\n",
      "HFF\u001b[41mG\u001b[0m\n",
      "**** You reached the goal! ****\n"
     ]
    }
   ],
   "source": [
    "# play agent\n",
    "agent.play()"
   ]
  },
  {
   "cell_type": "code",
   "execution_count": null,
   "metadata": {},
   "outputs": [],
   "source": []
  }
 ],
 "metadata": {
  "kernelspec": {
   "display_name": "Python 3",
   "language": "python",
   "name": "python3"
  },
  "language_info": {
   "codemirror_mode": {
    "name": "ipython",
    "version": 3
   },
   "file_extension": ".py",
   "mimetype": "text/x-python",
   "name": "python",
   "nbconvert_exporter": "python",
   "pygments_lexer": "ipython3",
   "version": "3.8.5"
  }
 },
 "nbformat": 4,
 "nbformat_minor": 4
}
